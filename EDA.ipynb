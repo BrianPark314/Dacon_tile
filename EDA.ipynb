{
 "cells": [
  {
   "cell_type": "code",
   "execution_count": 2,
   "metadata": {},
   "outputs": [],
   "source": [
    "import numpy as np\n",
    "import os"
   ]
  },
  {
   "cell_type": "code",
   "execution_count": 3,
   "metadata": {},
   "outputs": [],
   "source": [
    "import easydict\n",
    "import json\n",
    "args = easydict.EasyDict()"
   ]
  },
  {
   "cell_type": "code",
   "execution_count": 14,
   "metadata": {},
   "outputs": [],
   "source": [
    "args.train_data_path = '/Users/Shark/Dacon_tile/data/train/'\n",
    "args.test_data_path = '/Users/Shark/Dacon_tile/data/test/'\n",
    "args.result_path = '/Users/Shark/Dacon_tile/data/'"
   ]
  },
  {
   "cell_type": "code",
   "execution_count": 16,
   "metadata": {},
   "outputs": [
    {
     "name": "stdout",
     "output_type": "stream",
     "text": [
      "['녹오염', '걸레받이수정', '꼬임', '석고수정', '오타공', '울음', '이음부불량', '몰딩수정', '면불량', '창틀,문틀수정', '피스', '곰팡이', '반점', '들뜸', '오염', '가구수정', '터짐', '훼손', '틈새과다']\n"
     ]
    }
   ],
   "source": [
    "from os import listdir\n",
    "dnames = [_ for _ in listdir(args.train_data_path) if _[0] != '.']\n",
    "print(dnames)"
   ]
  },
  {
   "cell_type": "code",
   "execution_count": 22,
   "metadata": {},
   "outputs": [],
   "source": [
    "from PIL import Image\n",
    "from pathlib import Path\n",
    "import matplotlib.pyplot as plt\n",
    "plt.rcParams[\"savefig.bbox\"] = 'tight'\n",
    "plt.ion()\n",
    "import gc"
   ]
  },
  {
   "cell_type": "code",
   "execution_count": 21,
   "metadata": {},
   "outputs": [
    {
     "ename": "IsADirectoryError",
     "evalue": "[Errno 21] Is a directory: '/Users/Shark/Dacon_tile/data/train/녹오염'",
     "output_type": "error",
     "traceback": [
      "\u001b[0;31m---------------------------------------------------------------------------\u001b[0m",
      "\u001b[0;31mIsADirectoryError\u001b[0m                         Traceback (most recent call last)",
      "Cell \u001b[0;32mIn[21], line 3\u001b[0m\n\u001b[1;32m      1\u001b[0m train_data \u001b[39m=\u001b[39m [[] \u001b[39mfor\u001b[39;00m _ \u001b[39min\u001b[39;00m \u001b[39mrange\u001b[39m(\u001b[39mlen\u001b[39m(dnames))]\n\u001b[1;32m      2\u001b[0m \u001b[39mfor\u001b[39;00m i, path \u001b[39min\u001b[39;00m \u001b[39menumerate\u001b[39m(dnames):\n\u001b[0;32m----> 3\u001b[0m     train_data[i]\u001b[39m.\u001b[39mappend(Image\u001b[39m.\u001b[39;49mopen(args\u001b[39m.\u001b[39;49mtrain_data_path\u001b[39m+\u001b[39;49mpath))\n\u001b[1;32m      5\u001b[0m train_data\n",
      "File \u001b[0;32m~/opt/anaconda3/lib/python3.9/site-packages/PIL/Image.py:3227\u001b[0m, in \u001b[0;36mopen\u001b[0;34m(fp, mode, formats)\u001b[0m\n\u001b[1;32m   3224\u001b[0m     filename \u001b[39m=\u001b[39m fp\n\u001b[1;32m   3226\u001b[0m \u001b[39mif\u001b[39;00m filename:\n\u001b[0;32m-> 3227\u001b[0m     fp \u001b[39m=\u001b[39m builtins\u001b[39m.\u001b[39;49mopen(filename, \u001b[39m\"\u001b[39;49m\u001b[39mrb\u001b[39;49m\u001b[39m\"\u001b[39;49m)\n\u001b[1;32m   3228\u001b[0m     exclusive_fp \u001b[39m=\u001b[39m \u001b[39mTrue\u001b[39;00m\n\u001b[1;32m   3230\u001b[0m \u001b[39mtry\u001b[39;00m:\n",
      "\u001b[0;31mIsADirectoryError\u001b[0m: [Errno 21] Is a directory: '/Users/Shark/Dacon_tile/data/train/녹오염'"
     ]
    }
   ],
   "source": [
    "train_data = []\n",
    "for i, path in enumerate(dnames):\n",
    "    images = []\n",
    "    image_path = [_ for _ in listdir(args.train_data_path+path) if _[0] != '.']\n",
    "    for impath in image_path:\n",
    "\n",
    "train_data"
   ]
  },
  {
   "cell_type": "code",
   "execution_count": null,
   "metadata": {},
   "outputs": [],
   "source": []
  }
 ],
 "metadata": {
  "kernelspec": {
   "display_name": "base",
   "language": "python",
   "name": "python3"
  },
  "language_info": {
   "codemirror_mode": {
    "name": "ipython",
    "version": 3
   },
   "file_extension": ".py",
   "mimetype": "text/x-python",
   "name": "python",
   "nbconvert_exporter": "python",
   "pygments_lexer": "ipython3",
   "version": "3.9.16"
  },
  "orig_nbformat": 4
 },
 "nbformat": 4,
 "nbformat_minor": 2
}
